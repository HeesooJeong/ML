{
  "nbformat": 4,
  "nbformat_minor": 0,
  "metadata": {
    "colab": {
      "provenance": []
    },
    "kernelspec": {
      "name": "python3",
      "display_name": "Python 3"
    },
    "language_info": {
      "name": "python"
    }
  },
  "cells": [
    {
      "cell_type": "markdown",
      "source": [
        "# 문제 1: while문과 if문을 이용해서 1~20 사이의 정수 중 홀수들의 합을 구하시오\n",
        "## ex) 출력 결과: 100"
      ],
      "metadata": {
        "id": "8ZiUyYjtjUeC"
      }
    },
    {
      "cell_type": "code",
      "execution_count": null,
      "metadata": {
        "id": "x65mZSKfBru8",
        "colab": {
          "base_uri": "https://localhost:8080/"
        },
        "outputId": "8cb98cb0-7809-424b-80cb-4d8f80f324c5"
      },
      "outputs": [
        {
          "output_type": "stream",
          "name": "stdout",
          "text": [
            "100\n"
          ]
        }
      ],
      "source": [
        "# 문제 1\n",
        "# start code\n",
        "n = 1\n",
        "sum = 0\n",
        "while n <= 20:\n",
        "  if n % 2 == 1:\n",
        "    sum += n\n",
        "  n += 1\n",
        "\n",
        "print(sum)\n",
        "\n",
        "# end code"
      ]
    },
    {
      "cell_type": "markdown",
      "source": [
        "# 문제 2: for문과 if문을 이용해서 1~20 사이의 정수 중 짝수들의 합을 구하시오\n",
        "## ex) 출력 결과: 110"
      ],
      "metadata": {
        "id": "nSCJsSjfjx6p"
      }
    },
    {
      "cell_type": "code",
      "source": [
        "# 문제 2\n",
        "# start code\n",
        "sum = 0\n",
        "\n",
        "for n in range(1,21):\n",
        "  if n % 2 == 0:\n",
        "    sum += n\n",
        "  n += 1\n",
        "\n",
        "print(sum)\n",
        "# end code"
      ],
      "metadata": {
        "id": "tht-G2-4B4ww",
        "colab": {
          "base_uri": "https://localhost:8080/"
        },
        "outputId": "9983eaae-a272-40a3-afda-1028903b078a"
      },
      "execution_count": null,
      "outputs": [
        {
          "output_type": "stream",
          "name": "stdout",
          "text": [
            "110\n"
          ]
        }
      ]
    },
    {
      "cell_type": "markdown",
      "source": [
        "# 문제 3: while문과 if문을 이용해서 100이하의 자연수 중 8의 배수이지만 12배수는 아닌 정수들의 합을 구하시오\n",
        "## ex) 출력 결과: 384"
      ],
      "metadata": {
        "id": "GzMOwqaplHf8"
      }
    },
    {
      "cell_type": "code",
      "source": [
        "# 문제 3\n",
        "# start code\n",
        "n = 1\n",
        "sum = 0\n",
        "\n",
        "while n <= 100:\n",
        "  if n % 8 == 0 and n % 12 != 0:\n",
        "    sum += n\n",
        "  n += 1\n",
        "\n",
        "print(sum)\n",
        "# end code"
      ],
      "metadata": {
        "id": "DWksFPA3B4yw",
        "colab": {
          "base_uri": "https://localhost:8080/"
        },
        "outputId": "01fe1ff3-c3af-487e-c3cc-1f0e29da1cc3"
      },
      "execution_count": null,
      "outputs": [
        {
          "output_type": "stream",
          "name": "stdout",
          "text": [
            "384\n"
          ]
        }
      ]
    },
    {
      "cell_type": "markdown",
      "source": [
        "# 문제 4: while문의 조건식을 True로 설정한 다음에 사용자에게 입력 받은 값이 \"break\" 이면, break문을 통해서 while문을 빠져 나오는 코드를 구현하시오\n",
        "## ex) 출력 결과:\n",
        "## 입력하세요: a\n",
        "## 입력하세요: b\n",
        "## 입력하세요: break\n",
        "## end"
      ],
      "metadata": {
        "id": "cO0N32WVloZv"
      }
    },
    {
      "cell_type": "code",
      "source": [
        "# 문제 4\n",
        "# start code\n",
        "while True:\n",
        "  answer = input(\"입력하세요: \")\n",
        "  if answer == \"break\":\n",
        "    print(\"end\")\n",
        "    break\n",
        "# end code"
      ],
      "metadata": {
        "id": "BjYaWiTqB408",
        "colab": {
          "base_uri": "https://localhost:8080/"
        },
        "outputId": "8e093cc8-93e1-45ae-c16b-0f5e48317ef6"
      },
      "execution_count": 1,
      "outputs": [
        {
          "output_type": "stream",
          "name": "stdout",
          "text": [
            "입력하세요: a\n",
            "입력하세요: b\n",
            "입력하세요: break\n",
            "end\n"
          ]
        }
      ]
    },
    {
      "cell_type": "markdown",
      "source": [
        "# 문제 5: for문을 통해 1 ~ 10 사이의 짝수만 출력하시오 (continue문 이용하기)\n",
        "## ex) 출력 결과:\n",
        "## 2\n",
        "## 4\n",
        "## 6\n",
        "## 8\n",
        "## 10"
      ],
      "metadata": {
        "id": "NB55d3o_mKdG"
      }
    },
    {
      "cell_type": "code",
      "source": [
        "# 문제 5\n",
        "# start code\n",
        "for i in range(1,11):\n",
        "  if i % 2 == 1:\n",
        "    continue\n",
        "  print(i)\n",
        "\n",
        "# end code"
      ],
      "metadata": {
        "id": "OjwZYnxxB43A",
        "colab": {
          "base_uri": "https://localhost:8080/"
        },
        "outputId": "ebac5a2c-1f64-4664-fb7a-d26511d96923"
      },
      "execution_count": 2,
      "outputs": [
        {
          "output_type": "stream",
          "name": "stdout",
          "text": [
            "2\n",
            "4\n",
            "6\n",
            "8\n",
            "10\n"
          ]
        }
      ]
    },
    {
      "cell_type": "markdown",
      "source": [
        "# 문제 6: for문을 통해서 다음과 같은 문양을 만드시오 (\"*\"과 문자열의 곱을 이용)\n",
        "## ex) 출력 결과:\n",
        "## *****\n",
        "## ****\n",
        "## ***\n",
        "## **\n",
        "## *"
      ],
      "metadata": {
        "id": "b4NMFg0VmcMq"
      }
    },
    {
      "cell_type": "code",
      "source": [
        "# 문제 6\n",
        "# start code\n",
        "for i in range(5,0,-1):\n",
        "  print(\"*\" * i)\n",
        "# end code"
      ],
      "metadata": {
        "id": "oW8LmY4bB45Y",
        "colab": {
          "base_uri": "https://localhost:8080/"
        },
        "outputId": "0ed9d037-6e93-4b98-abc8-17500b1a41df"
      },
      "execution_count": null,
      "outputs": [
        {
          "output_type": "stream",
          "name": "stdout",
          "text": [
            "*****\n",
            "****\n",
            "***\n",
            "**\n",
            "*\n"
          ]
        }
      ]
    },
    {
      "cell_type": "markdown",
      "source": [
        "# 문제 7: 사용자에게 1~100 사이의 정수를 입력받고, 해당 정수를 통해 A등급 (90이상), B등급 (80이상-90미만), C등급 (70이상-80미만) D등급 (70 미만)을 return 하는 함수를 만드시오. (함수, if문 elif문 else를 활용)\n",
        "## ex)\n",
        "## 입력: 85\n",
        "## 출력 결과: \"B\""
      ],
      "metadata": {
        "id": "7mTDYsApm9LZ"
      }
    },
    {
      "cell_type": "code",
      "source": [
        "# 문제 7\n",
        "# start code\n",
        "score = int(input(\"입력: \"))\n",
        "\n",
        "def grading(score):\n",
        "  if 1 <= score <= 100:\n",
        "    if score >= 90:\n",
        "      return \"A\"\n",
        "    elif score >= 80:\n",
        "      return \"B\"\n",
        "    elif score >= 70:\n",
        "      return \"C\"\n",
        "    else:\n",
        "      return \"D\"\n",
        "\n",
        "grading(score)\n",
        "# end code"
      ],
      "metadata": {
        "id": "Zbtz17H2B47g",
        "colab": {
          "base_uri": "https://localhost:8080/",
          "height": 54
        },
        "outputId": "58507ac1-c427-4f14-c9b6-1818ba9e1f7e"
      },
      "execution_count": 10,
      "outputs": [
        {
          "name": "stdout",
          "output_type": "stream",
          "text": [
            "입력: 85\n"
          ]
        },
        {
          "output_type": "execute_result",
          "data": {
            "text/plain": [
              "'B'"
            ],
            "application/vnd.google.colaboratory.intrinsic+json": {
              "type": "string"
            }
          },
          "metadata": {},
          "execution_count": 10
        }
      ]
    },
    {
      "cell_type": "markdown",
      "source": [
        "# 문제 8: 사용자에게 문자열을 입력받고, 해당 문자열의 길이가 30 이상이면 \"너무 깁니다\", 미만이면 \"너무 짧습니다\"라고 출력하는 함수를 만드시오.\n",
        "## ex)\n",
        "## 입력: 오늘은 프로그래밍 입문 수업이 있는 날 입니다.\n",
        "## 출력 결과: 너무 짧습니다"
      ],
      "metadata": {
        "id": "Loz7NDtun54Y"
      }
    },
    {
      "cell_type": "code",
      "source": [
        "# 문제 8\n",
        "# start code\n",
        "input_string = input(\"입력: \")\n",
        "\n",
        "def string_length(input_string):\n",
        "  if len(input_string) >= 30:\n",
        "    print(\"너무 깁니다\")\n",
        "  else:\n",
        "    print(\"너무 짧습니다\")\n",
        "\n",
        "string_length(input_string)\n",
        "# end code"
      ],
      "metadata": {
        "id": "5K6ITCIlB49s",
        "colab": {
          "base_uri": "https://localhost:8080/"
        },
        "outputId": "eb799199-1eb6-4a79-8bea-2511a65d4d66"
      },
      "execution_count": 11,
      "outputs": [
        {
          "output_type": "stream",
          "name": "stdout",
          "text": [
            "입력: 오늘은 프로그래밍 입문 수업이 있는 날 입니다.\n",
            "너무 짧습니다\n"
          ]
        }
      ]
    },
    {
      "cell_type": "code",
      "source": [],
      "metadata": {
        "id": "SfQCnSuHYzSo"
      },
      "execution_count": null,
      "outputs": []
    }
  ]
}